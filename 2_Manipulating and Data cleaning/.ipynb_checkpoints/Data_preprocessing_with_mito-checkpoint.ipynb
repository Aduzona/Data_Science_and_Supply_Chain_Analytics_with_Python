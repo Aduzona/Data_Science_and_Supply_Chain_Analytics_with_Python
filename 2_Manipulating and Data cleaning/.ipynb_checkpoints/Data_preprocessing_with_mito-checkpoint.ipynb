{
 "cells": [
  {
   "cell_type": "code",
   "execution_count": 2,
   "metadata": {},
   "outputs": [
    {
     "name": "stdout",
     "output_type": "stream",
     "text": [
      "Requirement already satisfied: mitoinstaller in c:\\users\\aduzo\\anaconda3\\lib\\site-packages (0.0.69)\n",
      "Requirement already satisfied: analytics-python in c:\\users\\aduzo\\anaconda3\\lib\\site-packages (from mitoinstaller) (1.2.9)\n",
      "Requirement already satisfied: colorama in c:\\users\\aduzo\\anaconda3\\lib\\site-packages (from mitoinstaller) (0.4.3)\n",
      "Requirement already satisfied: termcolor in c:\\users\\aduzo\\anaconda3\\lib\\site-packages (from mitoinstaller) (1.1.0)\n",
      "Requirement already satisfied: six>=1.5 in c:\\users\\aduzo\\anaconda3\\lib\\site-packages (from analytics-python->mitoinstaller) (1.14.0)\n",
      "Requirement already satisfied: python-dateutil>2.1 in c:\\users\\aduzo\\anaconda3\\lib\\site-packages (from analytics-python->mitoinstaller) (2.8.1)\n",
      "Requirement already satisfied: requests<3.0,>=2.7 in c:\\users\\aduzo\\anaconda3\\lib\\site-packages (from analytics-python->mitoinstaller) (2.22.0)\n",
      "Requirement already satisfied: chardet<3.1.0,>=3.0.2 in c:\\users\\aduzo\\anaconda3\\lib\\site-packages (from requests<3.0,>=2.7->analytics-python->mitoinstaller) (3.0.4)\n",
      "Requirement already satisfied: idna<2.9,>=2.5 in c:\\users\\aduzo\\anaconda3\\lib\\site-packages (from requests<3.0,>=2.7->analytics-python->mitoinstaller) (2.8)\n",
      "Requirement already satisfied: certifi>=2017.4.17 in c:\\users\\aduzo\\anaconda3\\lib\\site-packages (from requests<3.0,>=2.7->analytics-python->mitoinstaller) (2019.11.28)\n",
      "Requirement already satisfied: urllib3!=1.25.0,!=1.25.1,<1.26,>=1.21.1 in c:\\users\\aduzo\\anaconda3\\lib\\site-packages (from requests<3.0,>=2.7->analytics-python->mitoinstaller) (1.25.8)\n"
     ]
    },
    {
     "name": "stderr",
     "output_type": "stream",
     "text": [
      "Traceback (most recent call last):\n",
      "  File \"C:\\Users\\aduzo\\anaconda3\\lib\\runpy.py\", line 193, in _run_module_as_main\n",
      "    \"__main__\", mod_spec)\n",
      "  File \"C:\\Users\\aduzo\\anaconda3\\lib\\runpy.py\", line 85, in _run_code\n",
      "    exec(code, run_globals)\n",
      "  File \"C:\\Users\\aduzo\\anaconda3\\lib\\site-packages\\mitoinstaller\\__main__.py\", line 14, in <module>\n",
      "    from mitoinstaller.install import do_install_or_upgrade\n",
      "  File \"C:\\Users\\aduzo\\anaconda3\\lib\\site-packages\\mitoinstaller\\install.py\", line 16, in <module>\n",
      "    from mitoinstaller.installer_steps import (FINAL_INSTALLER_STEPS,\n",
      "ModuleNotFoundError: No module named 'mitoinstaller.installer_steps'\n"
     ]
    }
   ],
   "source": [
    "!pip install mitoinstaller\n",
    "!python -m mitoinstaller install"
   ]
  },
  {
   "cell_type": "code",
   "execution_count": null,
   "metadata": {},
   "outputs": [],
   "source": [
    "python -m pip install mitoinstaller"
   ]
  },
  {
   "cell_type": "code",
   "execution_count": 1,
   "metadata": {},
   "outputs": [
    {
     "name": "stdout",
     "output_type": "stream",
     "text": [
      "It looks like Mito is incorrectly installed. To finish installing Mito, follow the documentation here: https://docs.trymito.io/\n"
     ]
    }
   ],
   "source": [
    "import mitosheet"
   ]
  },
  {
   "cell_type": "code",
   "execution_count": 6,
   "metadata": {},
   "outputs": [
    {
     "data": {
      "application/vnd.jupyter.widget-view+json": {
       "model_id": "dcf4c940c0614c9ba46d7480ac443c4d",
       "version_major": 2,
       "version_minor": 0
      },
      "text/plain": [
       "MitoWidget(analysis_name='UUID-f3cca5e7-9733-47ee-ace0-9ff2595ccdf0', code_json='{\"imports\": \"from mitosheet i…"
      ]
     },
     "metadata": {},
     "output_type": "display_data"
    }
   ],
   "source": [
    "mitosheet.sheet()"
   ]
  }
 ],
 "metadata": {
  "interpreter": {
   "hash": "60062bfbbdb55d7c70b884c78dba17d93f7bddb21846b67229a99cf865725014"
  },
  "kernelspec": {
   "display_name": "Python 3",
   "language": "python",
   "name": "python3"
  },
  "language_info": {
   "codemirror_mode": {
    "name": "ipython",
    "version": 3
   },
   "file_extension": ".py",
   "mimetype": "text/x-python",
   "name": "python",
   "nbconvert_exporter": "python",
   "pygments_lexer": "ipython3",
   "version": "3.7.6"
  }
 },
 "nbformat": 4,
 "nbformat_minor": 2
}
