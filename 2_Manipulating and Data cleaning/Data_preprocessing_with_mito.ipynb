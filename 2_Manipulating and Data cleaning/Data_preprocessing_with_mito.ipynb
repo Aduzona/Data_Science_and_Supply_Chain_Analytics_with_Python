{
 "cells": [
  {
   "cell_type": "code",
   "execution_count": 2,
   "source": [
    "!pip install mitoinstaller\r\n",
    "!python -m mitoinstaller install"
   ],
   "outputs": [
    {
     "output_type": "stream",
     "name": "stdout",
     "text": [
      "Requirement already satisfied: mitoinstaller in c:\\users\\aduzo\\anaconda3\\lib\\site-packages (0.0.69)\n",
      "Requirement already satisfied: analytics-python in c:\\users\\aduzo\\anaconda3\\lib\\site-packages (from mitoinstaller) (1.2.9)\n",
      "Requirement already satisfied: colorama in c:\\users\\aduzo\\anaconda3\\lib\\site-packages (from mitoinstaller) (0.4.3)\n",
      "Requirement already satisfied: termcolor in c:\\users\\aduzo\\anaconda3\\lib\\site-packages (from mitoinstaller) (1.1.0)\n",
      "Requirement already satisfied: six>=1.5 in c:\\users\\aduzo\\anaconda3\\lib\\site-packages (from analytics-python->mitoinstaller) (1.14.0)\n",
      "Requirement already satisfied: python-dateutil>2.1 in c:\\users\\aduzo\\anaconda3\\lib\\site-packages (from analytics-python->mitoinstaller) (2.8.1)\n",
      "Requirement already satisfied: requests<3.0,>=2.7 in c:\\users\\aduzo\\anaconda3\\lib\\site-packages (from analytics-python->mitoinstaller) (2.22.0)\n",
      "Requirement already satisfied: chardet<3.1.0,>=3.0.2 in c:\\users\\aduzo\\anaconda3\\lib\\site-packages (from requests<3.0,>=2.7->analytics-python->mitoinstaller) (3.0.4)\n",
      "Requirement already satisfied: idna<2.9,>=2.5 in c:\\users\\aduzo\\anaconda3\\lib\\site-packages (from requests<3.0,>=2.7->analytics-python->mitoinstaller) (2.8)\n",
      "Requirement already satisfied: certifi>=2017.4.17 in c:\\users\\aduzo\\anaconda3\\lib\\site-packages (from requests<3.0,>=2.7->analytics-python->mitoinstaller) (2019.11.28)\n",
      "Requirement already satisfied: urllib3!=1.25.0,!=1.25.1,<1.26,>=1.21.1 in c:\\users\\aduzo\\anaconda3\\lib\\site-packages (from requests<3.0,>=2.7->analytics-python->mitoinstaller) (1.25.8)\n"
     ]
    },
    {
     "output_type": "stream",
     "name": "stderr",
     "text": [
      "Traceback (most recent call last):\n",
      "  File \"C:\\Users\\aduzo\\anaconda3\\lib\\runpy.py\", line 193, in _run_module_as_main\n",
      "    \"__main__\", mod_spec)\n",
      "  File \"C:\\Users\\aduzo\\anaconda3\\lib\\runpy.py\", line 85, in _run_code\n",
      "    exec(code, run_globals)\n",
      "  File \"C:\\Users\\aduzo\\anaconda3\\lib\\site-packages\\mitoinstaller\\__main__.py\", line 14, in <module>\n",
      "    from mitoinstaller.install import do_install_or_upgrade\n",
      "  File \"C:\\Users\\aduzo\\anaconda3\\lib\\site-packages\\mitoinstaller\\install.py\", line 16, in <module>\n",
      "    from mitoinstaller.installer_steps import (FINAL_INSTALLER_STEPS,\n",
      "ModuleNotFoundError: No module named 'mitoinstaller.installer_steps'\n"
     ]
    }
   ],
   "metadata": {}
  },
  {
   "cell_type": "code",
   "execution_count": null,
   "source": [
    "python -m pip install mitoinstaller"
   ],
   "outputs": [],
   "metadata": {}
  },
  {
   "cell_type": "code",
   "execution_count": 1,
   "source": [
    "import mitosheet"
   ],
   "outputs": [
    {
     "output_type": "stream",
     "name": "stdout",
     "text": [
      "It looks like Mito is incorrectly installed. To finish installing Mito, follow the documentation here: https://docs.trymito.io/\n"
     ]
    }
   ],
   "metadata": {}
  },
  {
   "cell_type": "code",
   "execution_count": 3,
   "source": [
    "mitosheet.sheet()"
   ],
   "outputs": [
    {
     "output_type": "display_data",
     "data": {
      "application/vnd.jupyter.widget-view+json": {
       "model_id": "e390dff24eea4fd2b9b61e8a9c4f13b9",
       "version_major": 2,
       "version_minor": 0
      },
      "text/plain": [
       "MitoWidget(analysis_name='UUID-f6aaf355-1b17-4d8b-af37-7e7b1cedfc04', code_json='{\"imports\": \"from mitosheet i…"
      ]
     },
     "metadata": {}
    }
   ],
   "metadata": {}
  }
 ],
 "metadata": {
  "interpreter": {
   "hash": "60062bfbbdb55d7c70b884c78dba17d93f7bddb21846b67229a99cf865725014"
  },
  "kernelspec": {
   "name": "python3",
   "display_name": "Python 3.7.6 64-bit ('base': conda)"
  },
  "language_info": {
   "codemirror_mode": {
    "name": "ipython",
    "version": 3
   },
   "file_extension": ".py",
   "mimetype": "text/x-python",
   "name": "python",
   "nbconvert_exporter": "python",
   "pygments_lexer": "ipython3",
   "version": "3.7.6"
  }
 },
 "nbformat": 4,
 "nbformat_minor": 2
}