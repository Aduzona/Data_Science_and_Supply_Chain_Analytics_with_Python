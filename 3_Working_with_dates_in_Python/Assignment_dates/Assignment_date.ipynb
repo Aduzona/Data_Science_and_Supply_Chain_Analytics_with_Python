{
 "cells": [
  {
   "cell_type": "markdown",
   "source": [
    "Import twentyeleven.csv\r\n",
    "•\tDrop duplicates if any from the dataset.\r\n",
    "•\tget the week , to get the day of the week, the month and the year from invoice date column.\r\n",
    "•\tMake a new column and called it month year with the month name and year.\r\n",
    "•\tGet the last purchase date per customer\r\n",
    "•\tget the recency per customer\r\n",
    "•\tapply two weeks and one week moving average  for sales on the data .\r\n",
    "•\tresample the data to weekly data using the sum of all observations on that week.\r\n"
   ],
   "metadata": {}
  },
  {
   "cell_type": "code",
   "execution_count": 1,
   "source": [
    "import pandas as pd\r\n",
    "\r\n",
    "from datetime import datetime\r\n",
    "import numpy as np"
   ],
   "outputs": [],
   "metadata": {}
  },
  {
   "cell_type": "code",
   "execution_count": 2,
   "source": [
    "retail= pd.read_csv('twentyeleven.csv',parse_dates=True)"
   ],
   "outputs": [],
   "metadata": {}
  },
  {
   "cell_type": "code",
   "execution_count": 3,
   "source": [
    "retail.shape"
   ],
   "outputs": [
    {
     "output_type": "execute_result",
     "data": {
      "text/plain": [
       "(484330, 11)"
      ]
     },
     "metadata": {},
     "execution_count": 3
    }
   ],
   "metadata": {}
  },
  {
   "cell_type": "code",
   "execution_count": 5,
   "source": [
    "retail=retail.drop_duplicates()\r\n",
    "retail.shape"
   ],
   "outputs": [
    {
     "output_type": "execute_result",
     "data": {
      "text/plain": [
       "(484330, 11)"
      ]
     },
     "metadata": {},
     "execution_count": 5
    }
   ],
   "metadata": {}
  },
  {
   "cell_type": "code",
   "execution_count": 6,
   "source": [
    "retail=retail.dropna(axis=0, how='any')\r\n",
    "retail.shape"
   ],
   "outputs": [
    {
     "output_type": "execute_result",
     "data": {
      "text/plain": [
       "(367058, 11)"
      ]
     },
     "metadata": {},
     "execution_count": 6
    }
   ],
   "metadata": {}
  },
  {
   "cell_type": "code",
   "execution_count": 7,
   "source": [
    "retail.info()"
   ],
   "outputs": [
    {
     "output_type": "stream",
     "name": "stdout",
     "text": [
      "<class 'pandas.core.frame.DataFrame'>\n",
      "Int64Index: 367058 entries, 0 to 484329\n",
      "Data columns (total 11 columns):\n",
      " #   Column       Non-Null Count   Dtype  \n",
      "---  ------       --------------   -----  \n",
      " 0   Invoice      367058 non-null  float64\n",
      " 1   StockCode    367058 non-null  object \n",
      " 2   Description  367058 non-null  object \n",
      " 3   Quantity     367058 non-null  int64  \n",
      " 4   InvoiceDate  367058 non-null  object \n",
      " 5   Price        367058 non-null  float64\n",
      " 6   Customer ID  367058 non-null  float64\n",
      " 7   Country      367058 non-null  object \n",
      " 8   date         367058 non-null  object \n",
      " 9   revenue      367058 non-null  float64\n",
      " 10  year         367058 non-null  int64  \n",
      "dtypes: float64(4), int64(2), object(5)\n",
      "memory usage: 33.6+ MB\n"
     ]
    }
   ],
   "metadata": {}
  },
  {
   "cell_type": "code",
   "execution_count": 9,
   "source": [
    "retail.head(2)"
   ],
   "outputs": [
    {
     "output_type": "execute_result",
     "data": {
      "text/html": [
       "<div>\n",
       "<style scoped>\n",
       "    .dataframe tbody tr th:only-of-type {\n",
       "        vertical-align: middle;\n",
       "    }\n",
       "\n",
       "    .dataframe tbody tr th {\n",
       "        vertical-align: top;\n",
       "    }\n",
       "\n",
       "    .dataframe thead th {\n",
       "        text-align: right;\n",
       "    }\n",
       "</style>\n",
       "<table border=\"1\" class=\"dataframe\">\n",
       "  <thead>\n",
       "    <tr style=\"text-align: right;\">\n",
       "      <th></th>\n",
       "      <th>Invoice</th>\n",
       "      <th>StockCode</th>\n",
       "      <th>Description</th>\n",
       "      <th>Quantity</th>\n",
       "      <th>InvoiceDate</th>\n",
       "      <th>Price</th>\n",
       "      <th>Customer ID</th>\n",
       "      <th>Country</th>\n",
       "      <th>date</th>\n",
       "      <th>revenue</th>\n",
       "      <th>year</th>\n",
       "    </tr>\n",
       "  </thead>\n",
       "  <tbody>\n",
       "    <tr>\n",
       "      <th>0</th>\n",
       "      <td>539993.0</td>\n",
       "      <td>22386</td>\n",
       "      <td>JUMBO BAG PINK POLKADOT</td>\n",
       "      <td>10</td>\n",
       "      <td>2011-01-04T10:00:00Z</td>\n",
       "      <td>1.95</td>\n",
       "      <td>13313.0</td>\n",
       "      <td>United Kingdom</td>\n",
       "      <td>2011-01-04</td>\n",
       "      <td>19.5</td>\n",
       "      <td>2011</td>\n",
       "    </tr>\n",
       "    <tr>\n",
       "      <th>1</th>\n",
       "      <td>539993.0</td>\n",
       "      <td>21499</td>\n",
       "      <td>BLUE POLKADOT WRAP</td>\n",
       "      <td>25</td>\n",
       "      <td>2011-01-04T10:00:00Z</td>\n",
       "      <td>0.42</td>\n",
       "      <td>13313.0</td>\n",
       "      <td>United Kingdom</td>\n",
       "      <td>2011-01-04</td>\n",
       "      <td>10.5</td>\n",
       "      <td>2011</td>\n",
       "    </tr>\n",
       "  </tbody>\n",
       "</table>\n",
       "</div>"
      ],
      "text/plain": [
       "    Invoice StockCode              Description  Quantity  \\\n",
       "0  539993.0     22386  JUMBO BAG PINK POLKADOT        10   \n",
       "1  539993.0     21499       BLUE POLKADOT WRAP        25   \n",
       "\n",
       "            InvoiceDate  Price  Customer ID         Country        date  \\\n",
       "0  2011-01-04T10:00:00Z   1.95      13313.0  United Kingdom  2011-01-04   \n",
       "1  2011-01-04T10:00:00Z   0.42      13313.0  United Kingdom  2011-01-04   \n",
       "\n",
       "   revenue  year  \n",
       "0     19.5  2011  \n",
       "1     10.5  2011  "
      ]
     },
     "metadata": {},
     "execution_count": 9
    }
   ],
   "metadata": {}
  },
  {
   "cell_type": "code",
   "execution_count": null,
   "source": [],
   "outputs": [],
   "metadata": {}
  },
  {
   "cell_type": "markdown",
   "source": [
    "get the week , to get the day of the week, the month and the year from invoice date column."
   ],
   "metadata": {}
  },
  {
   "cell_type": "code",
   "execution_count": 10,
   "source": [
    "retail['InvoiceDate']=pd.to_datetime(retail.InvoiceDate)"
   ],
   "outputs": [],
   "metadata": {}
  },
  {
   "cell_type": "code",
   "execution_count": 11,
   "source": [
    "retail.info()"
   ],
   "outputs": [
    {
     "output_type": "stream",
     "name": "stdout",
     "text": [
      "<class 'pandas.core.frame.DataFrame'>\n",
      "Int64Index: 367058 entries, 0 to 484329\n",
      "Data columns (total 11 columns):\n",
      " #   Column       Non-Null Count   Dtype              \n",
      "---  ------       --------------   -----              \n",
      " 0   Invoice      367058 non-null  float64            \n",
      " 1   StockCode    367058 non-null  object             \n",
      " 2   Description  367058 non-null  object             \n",
      " 3   Quantity     367058 non-null  int64              \n",
      " 4   InvoiceDate  367058 non-null  datetime64[ns, UTC]\n",
      " 5   Price        367058 non-null  float64            \n",
      " 6   Customer ID  367058 non-null  float64            \n",
      " 7   Country      367058 non-null  object             \n",
      " 8   date         367058 non-null  object             \n",
      " 9   revenue      367058 non-null  float64            \n",
      " 10  year         367058 non-null  int64              \n",
      "dtypes: datetime64[ns, UTC](1), float64(4), int64(2), object(4)\n",
      "memory usage: 33.6+ MB\n"
     ]
    }
   ],
   "metadata": {}
  },
  {
   "cell_type": "code",
   "execution_count": 12,
   "source": [
    "#week\r\n",
    "retail['InvoiceDate'].dt.week.head(2)"
   ],
   "outputs": [
    {
     "output_type": "stream",
     "name": "stderr",
     "text": [
      "C:\\Users\\aduzo\\Anaconda3\\lib\\site-packages\\ipykernel_launcher.py:2: FutureWarning: Series.dt.weekofyear and Series.dt.week have been deprecated.  Please use Series.dt.isocalendar().week instead.\n",
      "  \n"
     ]
    },
    {
     "output_type": "execute_result",
     "data": {
      "text/plain": [
       "0    1\n",
       "1    1\n",
       "Name: InvoiceDate, dtype: int64"
      ]
     },
     "metadata": {},
     "execution_count": 12
    }
   ],
   "metadata": {}
  },
  {
   "cell_type": "code",
   "execution_count": 13,
   "source": [
    "#day of week\r\n",
    "retail['InvoiceDate'].dt.day.head(2)"
   ],
   "outputs": [
    {
     "output_type": "execute_result",
     "data": {
      "text/plain": [
       "0    4\n",
       "1    4\n",
       "Name: InvoiceDate, dtype: int64"
      ]
     },
     "metadata": {},
     "execution_count": 13
    }
   ],
   "metadata": {}
  },
  {
   "cell_type": "code",
   "execution_count": 14,
   "source": [
    "#month\r\n",
    "retail['InvoiceDate'].dt.month.head(2)"
   ],
   "outputs": [
    {
     "output_type": "execute_result",
     "data": {
      "text/plain": [
       "0    1\n",
       "1    1\n",
       "Name: InvoiceDate, dtype: int64"
      ]
     },
     "metadata": {},
     "execution_count": 14
    }
   ],
   "metadata": {}
  },
  {
   "cell_type": "code",
   "execution_count": 15,
   "source": [
    "#year\r\n",
    "retail['InvoiceDate'].dt.year.head(2)"
   ],
   "outputs": [
    {
     "output_type": "execute_result",
     "data": {
      "text/plain": [
       "0    2011\n",
       "1    2011\n",
       "Name: InvoiceDate, dtype: int64"
      ]
     },
     "metadata": {},
     "execution_count": 15
    }
   ],
   "metadata": {}
  },
  {
   "cell_type": "markdown",
   "source": [
    "•\tMake a new column and called it month year with the month name and year."
   ],
   "metadata": {}
  },
  {
   "cell_type": "code",
   "execution_count": null,
   "source": [],
   "outputs": [],
   "metadata": {}
  },
  {
   "cell_type": "code",
   "execution_count": 18,
   "source": [
    "retail['Month_year']=retail['InvoiceDate'].dt.strftime('%B %Y')"
   ],
   "outputs": [],
   "metadata": {}
  },
  {
   "cell_type": "code",
   "execution_count": 19,
   "source": [
    "retail.info()"
   ],
   "outputs": [
    {
     "output_type": "stream",
     "name": "stdout",
     "text": [
      "<class 'pandas.core.frame.DataFrame'>\n",
      "Int64Index: 367058 entries, 0 to 484329\n",
      "Data columns (total 12 columns):\n",
      " #   Column       Non-Null Count   Dtype              \n",
      "---  ------       --------------   -----              \n",
      " 0   Invoice      367058 non-null  float64            \n",
      " 1   StockCode    367058 non-null  object             \n",
      " 2   Description  367058 non-null  object             \n",
      " 3   Quantity     367058 non-null  int64              \n",
      " 4   InvoiceDate  367058 non-null  datetime64[ns, UTC]\n",
      " 5   Price        367058 non-null  float64            \n",
      " 6   Customer ID  367058 non-null  float64            \n",
      " 7   Country      367058 non-null  object             \n",
      " 8   date         367058 non-null  object             \n",
      " 9   revenue      367058 non-null  float64            \n",
      " 10  year         367058 non-null  int64              \n",
      " 11  Month_year   367058 non-null  object             \n",
      "dtypes: datetime64[ns, UTC](1), float64(4), int64(2), object(5)\n",
      "memory usage: 36.4+ MB\n"
     ]
    }
   ],
   "metadata": {}
  },
  {
   "cell_type": "markdown",
   "source": [
    "•\tGet the last purchase date per customer"
   ],
   "metadata": {}
  },
  {
   "cell_type": "code",
   "execution_count": 20,
   "source": [
    "last_purchase_Date=retail.groupby('Customer ID',as_index=False)['InvoiceDate'].max()\r\n",
    "last_purchase_Date"
   ],
   "outputs": [
    {
     "output_type": "execute_result",
     "data": {
      "text/html": [
       "<div>\n",
       "<style scoped>\n",
       "    .dataframe tbody tr th:only-of-type {\n",
       "        vertical-align: middle;\n",
       "    }\n",
       "\n",
       "    .dataframe tbody tr th {\n",
       "        vertical-align: top;\n",
       "    }\n",
       "\n",
       "    .dataframe thead th {\n",
       "        text-align: right;\n",
       "    }\n",
       "</style>\n",
       "<table border=\"1\" class=\"dataframe\">\n",
       "  <thead>\n",
       "    <tr style=\"text-align: right;\">\n",
       "      <th></th>\n",
       "      <th>Customer ID</th>\n",
       "      <th>InvoiceDate</th>\n",
       "    </tr>\n",
       "  </thead>\n",
       "  <tbody>\n",
       "    <tr>\n",
       "      <th>0</th>\n",
       "      <td>12347.0</td>\n",
       "      <td>2011-12-07 15:52:00+00:00</td>\n",
       "    </tr>\n",
       "    <tr>\n",
       "      <th>1</th>\n",
       "      <td>12348.0</td>\n",
       "      <td>2011-09-25 13:13:00+00:00</td>\n",
       "    </tr>\n",
       "    <tr>\n",
       "      <th>2</th>\n",
       "      <td>12349.0</td>\n",
       "      <td>2011-11-21 09:51:00+00:00</td>\n",
       "    </tr>\n",
       "    <tr>\n",
       "      <th>3</th>\n",
       "      <td>12350.0</td>\n",
       "      <td>2011-02-02 16:01:00+00:00</td>\n",
       "    </tr>\n",
       "    <tr>\n",
       "      <th>4</th>\n",
       "      <td>12352.0</td>\n",
       "      <td>2011-11-03 14:37:00+00:00</td>\n",
       "    </tr>\n",
       "    <tr>\n",
       "      <th>...</th>\n",
       "      <td>...</td>\n",
       "      <td>...</td>\n",
       "    </tr>\n",
       "    <tr>\n",
       "      <th>4214</th>\n",
       "      <td>18280.0</td>\n",
       "      <td>2011-03-07 09:52:00+00:00</td>\n",
       "    </tr>\n",
       "    <tr>\n",
       "      <th>4215</th>\n",
       "      <td>18281.0</td>\n",
       "      <td>2011-06-12 10:53:00+00:00</td>\n",
       "    </tr>\n",
       "    <tr>\n",
       "      <th>4216</th>\n",
       "      <td>18282.0</td>\n",
       "      <td>2011-12-02 11:43:00+00:00</td>\n",
       "    </tr>\n",
       "    <tr>\n",
       "      <th>4217</th>\n",
       "      <td>18283.0</td>\n",
       "      <td>2011-12-06 12:02:00+00:00</td>\n",
       "    </tr>\n",
       "    <tr>\n",
       "      <th>4218</th>\n",
       "      <td>18287.0</td>\n",
       "      <td>2011-10-28 09:29:00+00:00</td>\n",
       "    </tr>\n",
       "  </tbody>\n",
       "</table>\n",
       "<p>4219 rows × 2 columns</p>\n",
       "</div>"
      ],
      "text/plain": [
       "      Customer ID               InvoiceDate\n",
       "0         12347.0 2011-12-07 15:52:00+00:00\n",
       "1         12348.0 2011-09-25 13:13:00+00:00\n",
       "2         12349.0 2011-11-21 09:51:00+00:00\n",
       "3         12350.0 2011-02-02 16:01:00+00:00\n",
       "4         12352.0 2011-11-03 14:37:00+00:00\n",
       "...           ...                       ...\n",
       "4214      18280.0 2011-03-07 09:52:00+00:00\n",
       "4215      18281.0 2011-06-12 10:53:00+00:00\n",
       "4216      18282.0 2011-12-02 11:43:00+00:00\n",
       "4217      18283.0 2011-12-06 12:02:00+00:00\n",
       "4218      18287.0 2011-10-28 09:29:00+00:00\n",
       "\n",
       "[4219 rows x 2 columns]"
      ]
     },
     "metadata": {},
     "execution_count": 20
    }
   ],
   "metadata": {}
  },
  {
   "cell_type": "code",
   "execution_count": 21,
   "source": [
    "last_purchase_Date.info()"
   ],
   "outputs": [
    {
     "output_type": "stream",
     "name": "stdout",
     "text": [
      "<class 'pandas.core.frame.DataFrame'>\n",
      "Int64Index: 4219 entries, 0 to 4218\n",
      "Data columns (total 2 columns):\n",
      " #   Column       Non-Null Count  Dtype              \n",
      "---  ------       --------------  -----              \n",
      " 0   Customer ID  4219 non-null   float64            \n",
      " 1   InvoiceDate  4219 non-null   datetime64[ns, UTC]\n",
      "dtypes: datetime64[ns, UTC](1), float64(1)\n",
      "memory usage: 98.9 KB\n"
     ]
    }
   ],
   "metadata": {}
  },
  {
   "cell_type": "markdown",
   "source": [
    "•\tget the recency per customer\r\n",
    "\r\n",
    "* recency = maximum date - last_purchase_Date"
   ],
   "metadata": {}
  },
  {
   "cell_type": "code",
   "execution_count": 23,
   "source": [
    "max_date=retail.InvoiceDate.max()\r\n",
    "max_date"
   ],
   "outputs": [
    {
     "output_type": "execute_result",
     "data": {
      "text/plain": [
       "Timestamp('2011-12-09 12:50:00+0000', tz='UTC')"
      ]
     },
     "metadata": {},
     "execution_count": 23
    }
   ],
   "metadata": {}
  },
  {
   "cell_type": "code",
   "execution_count": 24,
   "source": [
    "last_purchase_Date['Recency']=max_date-last_purchase_Date['InvoiceDate']\r\n",
    "last_purchase_Date.info()"
   ],
   "outputs": [
    {
     "output_type": "stream",
     "name": "stdout",
     "text": [
      "<class 'pandas.core.frame.DataFrame'>\n",
      "Int64Index: 4219 entries, 0 to 4218\n",
      "Data columns (total 3 columns):\n",
      " #   Column       Non-Null Count  Dtype              \n",
      "---  ------       --------------  -----              \n",
      " 0   Customer ID  4219 non-null   float64            \n",
      " 1   InvoiceDate  4219 non-null   datetime64[ns, UTC]\n",
      " 2   Recency      4219 non-null   timedelta64[ns]    \n",
      "dtypes: datetime64[ns, UTC](1), float64(1), timedelta64[ns](1)\n",
      "memory usage: 131.8 KB\n"
     ]
    }
   ],
   "metadata": {}
  },
  {
   "cell_type": "code",
   "execution_count": 25,
   "source": [
    "last_purchase_Date.head(4)"
   ],
   "outputs": [
    {
     "output_type": "execute_result",
     "data": {
      "text/html": [
       "<div>\n",
       "<style scoped>\n",
       "    .dataframe tbody tr th:only-of-type {\n",
       "        vertical-align: middle;\n",
       "    }\n",
       "\n",
       "    .dataframe tbody tr th {\n",
       "        vertical-align: top;\n",
       "    }\n",
       "\n",
       "    .dataframe thead th {\n",
       "        text-align: right;\n",
       "    }\n",
       "</style>\n",
       "<table border=\"1\" class=\"dataframe\">\n",
       "  <thead>\n",
       "    <tr style=\"text-align: right;\">\n",
       "      <th></th>\n",
       "      <th>Customer ID</th>\n",
       "      <th>InvoiceDate</th>\n",
       "      <th>Recency</th>\n",
       "    </tr>\n",
       "  </thead>\n",
       "  <tbody>\n",
       "    <tr>\n",
       "      <th>0</th>\n",
       "      <td>12347.0</td>\n",
       "      <td>2011-12-07 15:52:00+00:00</td>\n",
       "      <td>1 days 20:58:00</td>\n",
       "    </tr>\n",
       "    <tr>\n",
       "      <th>1</th>\n",
       "      <td>12348.0</td>\n",
       "      <td>2011-09-25 13:13:00+00:00</td>\n",
       "      <td>74 days 23:37:00</td>\n",
       "    </tr>\n",
       "    <tr>\n",
       "      <th>2</th>\n",
       "      <td>12349.0</td>\n",
       "      <td>2011-11-21 09:51:00+00:00</td>\n",
       "      <td>18 days 02:59:00</td>\n",
       "    </tr>\n",
       "    <tr>\n",
       "      <th>3</th>\n",
       "      <td>12350.0</td>\n",
       "      <td>2011-02-02 16:01:00+00:00</td>\n",
       "      <td>309 days 20:49:00</td>\n",
       "    </tr>\n",
       "  </tbody>\n",
       "</table>\n",
       "</div>"
      ],
      "text/plain": [
       "   Customer ID               InvoiceDate           Recency\n",
       "0      12347.0 2011-12-07 15:52:00+00:00   1 days 20:58:00\n",
       "1      12348.0 2011-09-25 13:13:00+00:00  74 days 23:37:00\n",
       "2      12349.0 2011-11-21 09:51:00+00:00  18 days 02:59:00\n",
       "3      12350.0 2011-02-02 16:01:00+00:00 309 days 20:49:00"
      ]
     },
     "metadata": {},
     "execution_count": 25
    }
   ],
   "metadata": {}
  },
  {
   "cell_type": "markdown",
   "source": [
    "Extract only days fromthe timedelta type"
   ],
   "metadata": {}
  },
  {
   "cell_type": "code",
   "execution_count": 27,
   "source": [
    "last_purchase_Date['Recency_days']=last_purchase_Date['Recency'].dt.components['days']\r\n",
    "last_purchase_Date.head(2)"
   ],
   "outputs": [
    {
     "output_type": "execute_result",
     "data": {
      "text/html": [
       "<div>\n",
       "<style scoped>\n",
       "    .dataframe tbody tr th:only-of-type {\n",
       "        vertical-align: middle;\n",
       "    }\n",
       "\n",
       "    .dataframe tbody tr th {\n",
       "        vertical-align: top;\n",
       "    }\n",
       "\n",
       "    .dataframe thead th {\n",
       "        text-align: right;\n",
       "    }\n",
       "</style>\n",
       "<table border=\"1\" class=\"dataframe\">\n",
       "  <thead>\n",
       "    <tr style=\"text-align: right;\">\n",
       "      <th></th>\n",
       "      <th>Customer ID</th>\n",
       "      <th>InvoiceDate</th>\n",
       "      <th>Recency</th>\n",
       "      <th>Recency_days</th>\n",
       "    </tr>\n",
       "  </thead>\n",
       "  <tbody>\n",
       "    <tr>\n",
       "      <th>0</th>\n",
       "      <td>12347.0</td>\n",
       "      <td>2011-12-07 15:52:00+00:00</td>\n",
       "      <td>1 days 20:58:00</td>\n",
       "      <td>1</td>\n",
       "    </tr>\n",
       "    <tr>\n",
       "      <th>1</th>\n",
       "      <td>12348.0</td>\n",
       "      <td>2011-09-25 13:13:00+00:00</td>\n",
       "      <td>74 days 23:37:00</td>\n",
       "      <td>74</td>\n",
       "    </tr>\n",
       "  </tbody>\n",
       "</table>\n",
       "</div>"
      ],
      "text/plain": [
       "   Customer ID               InvoiceDate          Recency  Recency_days\n",
       "0      12347.0 2011-12-07 15:52:00+00:00  1 days 20:58:00             1\n",
       "1      12348.0 2011-09-25 13:13:00+00:00 74 days 23:37:00            74"
      ]
     },
     "metadata": {},
     "execution_count": 27
    }
   ],
   "metadata": {}
  },
  {
   "cell_type": "markdown",
   "source": [
    "•\tapply two weeks and one week moving average  for sales on the data."
   ],
   "metadata": {}
  },
  {
   "cell_type": "code",
   "execution_count": 22,
   "source": [
    "last_purchase_Date['Customer ID'].unique()"
   ],
   "outputs": [
    {
     "output_type": "execute_result",
     "data": {
      "text/plain": [
       "array([12347., 12348., 12349., ..., 18282., 18283., 18287.])"
      ]
     },
     "metadata": {},
     "execution_count": 22
    }
   ],
   "metadata": {}
  },
  {
   "cell_type": "code",
   "execution_count": 28,
   "source": [
    "last_purchase_Date['date']=last_purchase_Date['InvoiceDate'].dt.strftime('%Y-%m-%d')"
   ],
   "outputs": [],
   "metadata": {}
  },
  {
   "cell_type": "code",
   "execution_count": 29,
   "source": [
    "last_purchase_Date.head(4)"
   ],
   "outputs": [
    {
     "output_type": "execute_result",
     "data": {
      "text/html": [
       "<div>\n",
       "<style scoped>\n",
       "    .dataframe tbody tr th:only-of-type {\n",
       "        vertical-align: middle;\n",
       "    }\n",
       "\n",
       "    .dataframe tbody tr th {\n",
       "        vertical-align: top;\n",
       "    }\n",
       "\n",
       "    .dataframe thead th {\n",
       "        text-align: right;\n",
       "    }\n",
       "</style>\n",
       "<table border=\"1\" class=\"dataframe\">\n",
       "  <thead>\n",
       "    <tr style=\"text-align: right;\">\n",
       "      <th></th>\n",
       "      <th>Customer ID</th>\n",
       "      <th>InvoiceDate</th>\n",
       "      <th>Recency</th>\n",
       "      <th>Recency_days</th>\n",
       "      <th>date</th>\n",
       "    </tr>\n",
       "  </thead>\n",
       "  <tbody>\n",
       "    <tr>\n",
       "      <th>0</th>\n",
       "      <td>12347.0</td>\n",
       "      <td>2011-12-07 15:52:00+00:00</td>\n",
       "      <td>1 days 20:58:00</td>\n",
       "      <td>1</td>\n",
       "      <td>2011-12-07</td>\n",
       "    </tr>\n",
       "    <tr>\n",
       "      <th>1</th>\n",
       "      <td>12348.0</td>\n",
       "      <td>2011-09-25 13:13:00+00:00</td>\n",
       "      <td>74 days 23:37:00</td>\n",
       "      <td>74</td>\n",
       "      <td>2011-09-25</td>\n",
       "    </tr>\n",
       "    <tr>\n",
       "      <th>2</th>\n",
       "      <td>12349.0</td>\n",
       "      <td>2011-11-21 09:51:00+00:00</td>\n",
       "      <td>18 days 02:59:00</td>\n",
       "      <td>18</td>\n",
       "      <td>2011-11-21</td>\n",
       "    </tr>\n",
       "    <tr>\n",
       "      <th>3</th>\n",
       "      <td>12350.0</td>\n",
       "      <td>2011-02-02 16:01:00+00:00</td>\n",
       "      <td>309 days 20:49:00</td>\n",
       "      <td>309</td>\n",
       "      <td>2011-02-02</td>\n",
       "    </tr>\n",
       "  </tbody>\n",
       "</table>\n",
       "</div>"
      ],
      "text/plain": [
       "   Customer ID               InvoiceDate           Recency  Recency_days  \\\n",
       "0      12347.0 2011-12-07 15:52:00+00:00   1 days 20:58:00             1   \n",
       "1      12348.0 2011-09-25 13:13:00+00:00  74 days 23:37:00            74   \n",
       "2      12349.0 2011-11-21 09:51:00+00:00  18 days 02:59:00            18   \n",
       "3      12350.0 2011-02-02 16:01:00+00:00 309 days 20:49:00           309   \n",
       "\n",
       "         date  \n",
       "0  2011-12-07  \n",
       "1  2011-09-25  \n",
       "2  2011-11-21  \n",
       "3  2011-02-02  "
      ]
     },
     "metadata": {},
     "execution_count": 29
    }
   ],
   "metadata": {}
  },
  {
   "cell_type": "code",
   "execution_count": 30,
   "source": [
    "import matplotlib.pyplot as plt"
   ],
   "outputs": [],
   "metadata": {}
  },
  {
   "cell_type": "code",
   "execution_count": 31,
   "source": [
    "retail.columns"
   ],
   "outputs": [
    {
     "output_type": "execute_result",
     "data": {
      "text/plain": [
       "Index(['Invoice', 'StockCode', 'Description', 'Quantity', 'InvoiceDate',\n",
       "       'Price', 'Customer ID', 'Country', 'date', 'revenue', 'year',\n",
       "       'Month_year'],\n",
       "      dtype='object')"
      ]
     },
     "metadata": {},
     "execution_count": 31
    }
   ],
   "metadata": {}
  },
  {
   "cell_type": "code",
   "execution_count": 36,
   "source": [
    "retail.groupby('date')[['Quantity']].sum()"
   ],
   "outputs": [
    {
     "output_type": "execute_result",
     "data": {
      "text/html": [
       "<div>\n",
       "<style scoped>\n",
       "    .dataframe tbody tr th:only-of-type {\n",
       "        vertical-align: middle;\n",
       "    }\n",
       "\n",
       "    .dataframe tbody tr th {\n",
       "        vertical-align: top;\n",
       "    }\n",
       "\n",
       "    .dataframe thead th {\n",
       "        text-align: right;\n",
       "    }\n",
       "</style>\n",
       "<table border=\"1\" class=\"dataframe\">\n",
       "  <thead>\n",
       "    <tr style=\"text-align: right;\">\n",
       "      <th></th>\n",
       "      <th>Quantity</th>\n",
       "    </tr>\n",
       "    <tr>\n",
       "      <th>date</th>\n",
       "      <th></th>\n",
       "    </tr>\n",
       "  </thead>\n",
       "  <tbody>\n",
       "    <tr>\n",
       "      <th>2011-01-04</th>\n",
       "      <td>6950</td>\n",
       "    </tr>\n",
       "    <tr>\n",
       "      <th>2011-01-05</th>\n",
       "      <td>18369</td>\n",
       "    </tr>\n",
       "    <tr>\n",
       "      <th>2011-01-06</th>\n",
       "      <td>21582</td>\n",
       "    </tr>\n",
       "    <tr>\n",
       "      <th>2011-01-07</th>\n",
       "      <td>15122</td>\n",
       "    </tr>\n",
       "    <tr>\n",
       "      <th>2011-01-09</th>\n",
       "      <td>8125</td>\n",
       "    </tr>\n",
       "    <tr>\n",
       "      <th>...</th>\n",
       "      <td>...</td>\n",
       "    </tr>\n",
       "    <tr>\n",
       "      <th>2011-12-05</th>\n",
       "      <td>38347</td>\n",
       "    </tr>\n",
       "    <tr>\n",
       "      <th>2011-12-06</th>\n",
       "      <td>27736</td>\n",
       "    </tr>\n",
       "    <tr>\n",
       "      <th>2011-12-07</th>\n",
       "      <td>41011</td>\n",
       "    </tr>\n",
       "    <tr>\n",
       "      <th>2011-12-08</th>\n",
       "      <td>27476</td>\n",
       "    </tr>\n",
       "    <tr>\n",
       "      <th>2011-12-09</th>\n",
       "      <td>9558</td>\n",
       "    </tr>\n",
       "  </tbody>\n",
       "</table>\n",
       "<p>285 rows × 1 columns</p>\n",
       "</div>"
      ],
      "text/plain": [
       "            Quantity\n",
       "date                \n",
       "2011-01-04      6950\n",
       "2011-01-05     18369\n",
       "2011-01-06     21582\n",
       "2011-01-07     15122\n",
       "2011-01-09      8125\n",
       "...              ...\n",
       "2011-12-05     38347\n",
       "2011-12-06     27736\n",
       "2011-12-07     41011\n",
       "2011-12-08     27476\n",
       "2011-12-09      9558\n",
       "\n",
       "[285 rows x 1 columns]"
      ]
     },
     "metadata": {},
     "execution_count": 36
    }
   ],
   "metadata": {}
  },
  {
   "cell_type": "code",
   "execution_count": 48,
   "source": [
    "# retail date is an object\r\n",
    "retail['date']=pd.to_datetime(retail['date'])\r\n",
    "retail.info()"
   ],
   "outputs": [
    {
     "output_type": "stream",
     "name": "stdout",
     "text": [
      "<class 'pandas.core.frame.DataFrame'>\n",
      "Int64Index: 367058 entries, 0 to 484329\n",
      "Data columns (total 12 columns):\n",
      " #   Column       Non-Null Count   Dtype              \n",
      "---  ------       --------------   -----              \n",
      " 0   Invoice      367058 non-null  float64            \n",
      " 1   StockCode    367058 non-null  object             \n",
      " 2   Description  367058 non-null  object             \n",
      " 3   Quantity     367058 non-null  int64              \n",
      " 4   InvoiceDate  367058 non-null  datetime64[ns, UTC]\n",
      " 5   Price        367058 non-null  float64            \n",
      " 6   Customer ID  367058 non-null  float64            \n",
      " 7   Country      367058 non-null  object             \n",
      " 8   date         367058 non-null  datetime64[ns]     \n",
      " 9   revenue      367058 non-null  float64            \n",
      " 10  year         367058 non-null  int64              \n",
      " 11  Month_year   367058 non-null  object             \n",
      "dtypes: datetime64[ns, UTC](1), datetime64[ns](1), float64(4), int64(2), object(4)\n",
      "memory usage: 44.5+ MB\n"
     ]
    }
   ],
   "metadata": {}
  },
  {
   "cell_type": "code",
   "execution_count": 49,
   "source": [
    "retail.head(4)"
   ],
   "outputs": [
    {
     "output_type": "execute_result",
     "data": {
      "text/html": [
       "<div>\n",
       "<style scoped>\n",
       "    .dataframe tbody tr th:only-of-type {\n",
       "        vertical-align: middle;\n",
       "    }\n",
       "\n",
       "    .dataframe tbody tr th {\n",
       "        vertical-align: top;\n",
       "    }\n",
       "\n",
       "    .dataframe thead th {\n",
       "        text-align: right;\n",
       "    }\n",
       "</style>\n",
       "<table border=\"1\" class=\"dataframe\">\n",
       "  <thead>\n",
       "    <tr style=\"text-align: right;\">\n",
       "      <th></th>\n",
       "      <th>Invoice</th>\n",
       "      <th>StockCode</th>\n",
       "      <th>Description</th>\n",
       "      <th>Quantity</th>\n",
       "      <th>InvoiceDate</th>\n",
       "      <th>Price</th>\n",
       "      <th>Customer ID</th>\n",
       "      <th>Country</th>\n",
       "      <th>date</th>\n",
       "      <th>revenue</th>\n",
       "      <th>year</th>\n",
       "      <th>Month_year</th>\n",
       "    </tr>\n",
       "  </thead>\n",
       "  <tbody>\n",
       "    <tr>\n",
       "      <th>0</th>\n",
       "      <td>539993.0</td>\n",
       "      <td>22386</td>\n",
       "      <td>JUMBO BAG PINK POLKADOT</td>\n",
       "      <td>10</td>\n",
       "      <td>2011-01-04 10:00:00+00:00</td>\n",
       "      <td>1.95</td>\n",
       "      <td>13313.0</td>\n",
       "      <td>United Kingdom</td>\n",
       "      <td>2011-01-04</td>\n",
       "      <td>19.5</td>\n",
       "      <td>2011</td>\n",
       "      <td>January 2011</td>\n",
       "    </tr>\n",
       "    <tr>\n",
       "      <th>1</th>\n",
       "      <td>539993.0</td>\n",
       "      <td>21499</td>\n",
       "      <td>BLUE POLKADOT WRAP</td>\n",
       "      <td>25</td>\n",
       "      <td>2011-01-04 10:00:00+00:00</td>\n",
       "      <td>0.42</td>\n",
       "      <td>13313.0</td>\n",
       "      <td>United Kingdom</td>\n",
       "      <td>2011-01-04</td>\n",
       "      <td>10.5</td>\n",
       "      <td>2011</td>\n",
       "      <td>January 2011</td>\n",
       "    </tr>\n",
       "    <tr>\n",
       "      <th>2</th>\n",
       "      <td>539993.0</td>\n",
       "      <td>21498</td>\n",
       "      <td>RED RETROSPOT WRAP</td>\n",
       "      <td>25</td>\n",
       "      <td>2011-01-04 10:00:00+00:00</td>\n",
       "      <td>0.42</td>\n",
       "      <td>13313.0</td>\n",
       "      <td>United Kingdom</td>\n",
       "      <td>2011-01-04</td>\n",
       "      <td>10.5</td>\n",
       "      <td>2011</td>\n",
       "      <td>January 2011</td>\n",
       "    </tr>\n",
       "    <tr>\n",
       "      <th>3</th>\n",
       "      <td>539993.0</td>\n",
       "      <td>22379</td>\n",
       "      <td>RECYCLING BAG RETROSPOT</td>\n",
       "      <td>5</td>\n",
       "      <td>2011-01-04 10:00:00+00:00</td>\n",
       "      <td>2.10</td>\n",
       "      <td>13313.0</td>\n",
       "      <td>United Kingdom</td>\n",
       "      <td>2011-01-04</td>\n",
       "      <td>10.5</td>\n",
       "      <td>2011</td>\n",
       "      <td>January 2011</td>\n",
       "    </tr>\n",
       "  </tbody>\n",
       "</table>\n",
       "</div>"
      ],
      "text/plain": [
       "    Invoice StockCode              Description  Quantity  \\\n",
       "0  539993.0     22386  JUMBO BAG PINK POLKADOT        10   \n",
       "1  539993.0     21499       BLUE POLKADOT WRAP        25   \n",
       "2  539993.0     21498       RED RETROSPOT WRAP        25   \n",
       "3  539993.0     22379  RECYCLING BAG RETROSPOT         5   \n",
       "\n",
       "                InvoiceDate  Price  Customer ID         Country       date  \\\n",
       "0 2011-01-04 10:00:00+00:00   1.95      13313.0  United Kingdom 2011-01-04   \n",
       "1 2011-01-04 10:00:00+00:00   0.42      13313.0  United Kingdom 2011-01-04   \n",
       "2 2011-01-04 10:00:00+00:00   0.42      13313.0  United Kingdom 2011-01-04   \n",
       "3 2011-01-04 10:00:00+00:00   2.10      13313.0  United Kingdom 2011-01-04   \n",
       "\n",
       "   revenue  year    Month_year  \n",
       "0     19.5  2011  January 2011  \n",
       "1     10.5  2011  January 2011  \n",
       "2     10.5  2011  January 2011  \n",
       "3     10.5  2011  January 2011  "
      ]
     },
     "metadata": {},
     "execution_count": 49
    }
   ],
   "metadata": {}
  },
  {
   "cell_type": "code",
   "execution_count": 50,
   "source": [
    "# OR\r\n",
    "moving_av= retail.groupby('date').agg(total_sales=('Quantity','sum'))\r\n",
    "moving_av"
   ],
   "outputs": [
    {
     "output_type": "execute_result",
     "data": {
      "text/html": [
       "<div>\n",
       "<style scoped>\n",
       "    .dataframe tbody tr th:only-of-type {\n",
       "        vertical-align: middle;\n",
       "    }\n",
       "\n",
       "    .dataframe tbody tr th {\n",
       "        vertical-align: top;\n",
       "    }\n",
       "\n",
       "    .dataframe thead th {\n",
       "        text-align: right;\n",
       "    }\n",
       "</style>\n",
       "<table border=\"1\" class=\"dataframe\">\n",
       "  <thead>\n",
       "    <tr style=\"text-align: right;\">\n",
       "      <th></th>\n",
       "      <th>total_sales</th>\n",
       "    </tr>\n",
       "    <tr>\n",
       "      <th>date</th>\n",
       "      <th></th>\n",
       "    </tr>\n",
       "  </thead>\n",
       "  <tbody>\n",
       "    <tr>\n",
       "      <th>2011-01-04</th>\n",
       "      <td>6950</td>\n",
       "    </tr>\n",
       "    <tr>\n",
       "      <th>2011-01-05</th>\n",
       "      <td>18369</td>\n",
       "    </tr>\n",
       "    <tr>\n",
       "      <th>2011-01-06</th>\n",
       "      <td>21582</td>\n",
       "    </tr>\n",
       "    <tr>\n",
       "      <th>2011-01-07</th>\n",
       "      <td>15122</td>\n",
       "    </tr>\n",
       "    <tr>\n",
       "      <th>2011-01-09</th>\n",
       "      <td>8125</td>\n",
       "    </tr>\n",
       "    <tr>\n",
       "      <th>...</th>\n",
       "      <td>...</td>\n",
       "    </tr>\n",
       "    <tr>\n",
       "      <th>2011-12-05</th>\n",
       "      <td>38347</td>\n",
       "    </tr>\n",
       "    <tr>\n",
       "      <th>2011-12-06</th>\n",
       "      <td>27736</td>\n",
       "    </tr>\n",
       "    <tr>\n",
       "      <th>2011-12-07</th>\n",
       "      <td>41011</td>\n",
       "    </tr>\n",
       "    <tr>\n",
       "      <th>2011-12-08</th>\n",
       "      <td>27476</td>\n",
       "    </tr>\n",
       "    <tr>\n",
       "      <th>2011-12-09</th>\n",
       "      <td>9558</td>\n",
       "    </tr>\n",
       "  </tbody>\n",
       "</table>\n",
       "<p>285 rows × 1 columns</p>\n",
       "</div>"
      ],
      "text/plain": [
       "            total_sales\n",
       "date                   \n",
       "2011-01-04         6950\n",
       "2011-01-05        18369\n",
       "2011-01-06        21582\n",
       "2011-01-07        15122\n",
       "2011-01-09         8125\n",
       "...                 ...\n",
       "2011-12-05        38347\n",
       "2011-12-06        27736\n",
       "2011-12-07        41011\n",
       "2011-12-08        27476\n",
       "2011-12-09         9558\n",
       "\n",
       "[285 rows x 1 columns]"
      ]
     },
     "metadata": {},
     "execution_count": 50
    }
   ],
   "metadata": {}
  },
  {
   "cell_type": "code",
   "execution_count": 51,
   "source": [
    "moving_av.plot()"
   ],
   "outputs": [
    {
     "output_type": "execute_result",
     "data": {
      "text/plain": [
       "<AxesSubplot:xlabel='date'>"
      ]
     },
     "metadata": {},
     "execution_count": 51
    },
    {
     "output_type": "display_data",
     "data": {
      "image/png": "[encoded data removed]",
      "text/plain": [
       "<Figure size 432x288 with 1 Axes>"
      ]
     },
     "metadata": {
      "needs_background": "light"
     }
    }
   ],
   "metadata": {}
  },
  {
   "cell_type": "code",
   "execution_count": 52,
   "source": [
    "moving_av.columns"
   ],
   "outputs": [
    {
     "output_type": "execute_result",
     "data": {
      "text/plain": [
       "Index(['total_sales'], dtype='object')"
      ]
     },
     "metadata": {},
     "execution_count": 52
    }
   ],
   "metadata": {}
  },
  {
   "cell_type": "code",
   "execution_count": 53,
   "source": [
    "moving_av['moving_7']=moving_av.rolling(window=7).mean()\r\n",
    "moving_av['moving_14']=moving_av['total_sales'].rolling(window=14).mean()"
   ],
   "outputs": [],
   "metadata": {}
  },
  {
   "cell_type": "code",
   "execution_count": 54,
   "source": [
    "moving_av.head(15)"
   ],
   "outputs": [
    {
     "output_type": "execute_result",
     "data": {
      "text/html": [
       "<div>\n",
       "<style scoped>\n",
       "    .dataframe tbody tr th:only-of-type {\n",
       "        vertical-align: middle;\n",
       "    }\n",
       "\n",
       "    .dataframe tbody tr th {\n",
       "        vertical-align: top;\n",
       "    }\n",
       "\n",
       "    .dataframe thead th {\n",
       "        text-align: right;\n",
       "    }\n",
       "</style>\n",
       "<table border=\"1\" class=\"dataframe\">\n",
       "  <thead>\n",
       "    <tr style=\"text-align: right;\">\n",
       "      <th></th>\n",
       "      <th>total_sales</th>\n",
       "      <th>moving_7</th>\n",
       "      <th>moving_14</th>\n",
       "    </tr>\n",
       "    <tr>\n",
       "      <th>date</th>\n",
       "      <th></th>\n",
       "      <th></th>\n",
       "      <th></th>\n",
       "    </tr>\n",
       "  </thead>\n",
       "  <tbody>\n",
       "    <tr>\n",
       "      <th>2011-01-04</th>\n",
       "      <td>6950</td>\n",
       "      <td>NaN</td>\n",
       "      <td>NaN</td>\n",
       "    </tr>\n",
       "    <tr>\n",
       "      <th>2011-01-05</th>\n",
       "      <td>18369</td>\n",
       "      <td>NaN</td>\n",
       "      <td>NaN</td>\n",
       "    </tr>\n",
       "    <tr>\n",
       "      <th>2011-01-06</th>\n",
       "      <td>21582</td>\n",
       "      <td>NaN</td>\n",
       "      <td>NaN</td>\n",
       "    </tr>\n",
       "    <tr>\n",
       "      <th>2011-01-07</th>\n",
       "      <td>15122</td>\n",
       "      <td>NaN</td>\n",
       "      <td>NaN</td>\n",
       "    </tr>\n",
       "    <tr>\n",
       "      <th>2011-01-09</th>\n",
       "      <td>8125</td>\n",
       "      <td>NaN</td>\n",
       "      <td>NaN</td>\n",
       "    </tr>\n",
       "    <tr>\n",
       "      <th>2011-01-10</th>\n",
       "      <td>9380</td>\n",
       "      <td>NaN</td>\n",
       "      <td>NaN</td>\n",
       "    </tr>\n",
       "    <tr>\n",
       "      <th>2011-01-11</th>\n",
       "      <td>26072</td>\n",
       "      <td>15085.714286</td>\n",
       "      <td>NaN</td>\n",
       "    </tr>\n",
       "    <tr>\n",
       "      <th>2011-01-12</th>\n",
       "      <td>7883</td>\n",
       "      <td>15219.000000</td>\n",
       "      <td>NaN</td>\n",
       "    </tr>\n",
       "    <tr>\n",
       "      <th>2011-01-13</th>\n",
       "      <td>8310</td>\n",
       "      <td>13782.000000</td>\n",
       "      <td>NaN</td>\n",
       "    </tr>\n",
       "    <tr>\n",
       "      <th>2011-01-14</th>\n",
       "      <td>21098</td>\n",
       "      <td>13712.857143</td>\n",
       "      <td>NaN</td>\n",
       "    </tr>\n",
       "    <tr>\n",
       "      <th>2011-01-16</th>\n",
       "      <td>4086</td>\n",
       "      <td>12136.285714</td>\n",
       "      <td>NaN</td>\n",
       "    </tr>\n",
       "    <tr>\n",
       "      <th>2011-01-17</th>\n",
       "      <td>8692</td>\n",
       "      <td>12217.285714</td>\n",
       "      <td>NaN</td>\n",
       "    </tr>\n",
       "    <tr>\n",
       "      <th>2011-01-18</th>\n",
       "      <td>6390</td>\n",
       "      <td>11790.142857</td>\n",
       "      <td>NaN</td>\n",
       "    </tr>\n",
       "    <tr>\n",
       "      <th>2011-01-19</th>\n",
       "      <td>15869</td>\n",
       "      <td>10332.571429</td>\n",
       "      <td>12709.142857</td>\n",
       "    </tr>\n",
       "    <tr>\n",
       "      <th>2011-01-20</th>\n",
       "      <td>8171</td>\n",
       "      <td>10373.714286</td>\n",
       "      <td>12796.357143</td>\n",
       "    </tr>\n",
       "  </tbody>\n",
       "</table>\n",
       "</div>"
      ],
      "text/plain": [
       "            total_sales      moving_7     moving_14\n",
       "date                                               \n",
       "2011-01-04         6950           NaN           NaN\n",
       "2011-01-05        18369           NaN           NaN\n",
       "2011-01-06        21582           NaN           NaN\n",
       "2011-01-07        15122           NaN           NaN\n",
       "2011-01-09         8125           NaN           NaN\n",
       "2011-01-10         9380           NaN           NaN\n",
       "2011-01-11        26072  15085.714286           NaN\n",
       "2011-01-12         7883  15219.000000           NaN\n",
       "2011-01-13         8310  13782.000000           NaN\n",
       "2011-01-14        21098  13712.857143           NaN\n",
       "2011-01-16         4086  12136.285714           NaN\n",
       "2011-01-17         8692  12217.285714           NaN\n",
       "2011-01-18         6390  11790.142857           NaN\n",
       "2011-01-19        15869  10332.571429  12709.142857\n",
       "2011-01-20         8171  10373.714286  12796.357143"
      ]
     },
     "metadata": {},
     "execution_count": 54
    }
   ],
   "metadata": {}
  },
  {
   "cell_type": "code",
   "execution_count": 55,
   "source": [
    "retail.info()"
   ],
   "outputs": [
    {
     "output_type": "stream",
     "name": "stdout",
     "text": [
      "<class 'pandas.core.frame.DataFrame'>\n",
      "Int64Index: 367058 entries, 0 to 484329\n",
      "Data columns (total 12 columns):\n",
      " #   Column       Non-Null Count   Dtype              \n",
      "---  ------       --------------   -----              \n",
      " 0   Invoice      367058 non-null  float64            \n",
      " 1   StockCode    367058 non-null  object             \n",
      " 2   Description  367058 non-null  object             \n",
      " 3   Quantity     367058 non-null  int64              \n",
      " 4   InvoiceDate  367058 non-null  datetime64[ns, UTC]\n",
      " 5   Price        367058 non-null  float64            \n",
      " 6   Customer ID  367058 non-null  float64            \n",
      " 7   Country      367058 non-null  object             \n",
      " 8   date         367058 non-null  datetime64[ns]     \n",
      " 9   revenue      367058 non-null  float64            \n",
      " 10  year         367058 non-null  int64              \n",
      " 11  Month_year   367058 non-null  object             \n",
      "dtypes: datetime64[ns, UTC](1), datetime64[ns](1), float64(4), int64(2), object(4)\n",
      "memory usage: 44.5+ MB\n"
     ]
    }
   ],
   "metadata": {}
  },
  {
   "cell_type": "code",
   "execution_count": 56,
   "source": [
    "moving_av['Aug-2011'].plot()"
   ],
   "outputs": [
    {
     "output_type": "stream",
     "name": "stderr",
     "text": [
      "C:\\Users\\aduzo\\Anaconda3\\lib\\site-packages\\ipykernel_launcher.py:1: FutureWarning: Indexing a DataFrame with a datetimelike index using a single string to slice the rows, like `frame[string]`, is deprecated and will be removed in a future version. Use `frame.loc[string]` instead.\n",
      "  \"\"\"Entry point for launching an IPython kernel.\n"
     ]
    },
    {
     "output_type": "execute_result",
     "data": {
      "text/plain": [
       "<AxesSubplot:xlabel='date'>"
      ]
     },
     "metadata": {},
     "execution_count": 56
    },
    {
     "output_type": "display_data",
     "data": {
      "image/png": "[encoded data removed]",
      "text/plain": [
       "<Figure size 432x288 with 1 Axes>"
      ]
     },
     "metadata": {
      "needs_background": "light"
     }
    }
   ],
   "metadata": {}
  },
  {
   "cell_type": "markdown",
   "source": [
    "•\tresample the data to weekly data using the sum of all observations on that week."
   ],
   "metadata": {}
  },
  {
   "cell_type": "code",
   "execution_count": 59,
   "source": [
    "weekly_series_sum=moving_av[['total_sales']].resample('W').sum()\r\n",
    "weekly_series_sum"
   ],
   "outputs": [
    {
     "output_type": "execute_result",
     "data": {
      "text/html": [
       "<div>\n",
       "<style scoped>\n",
       "    .dataframe tbody tr th:only-of-type {\n",
       "        vertical-align: middle;\n",
       "    }\n",
       "\n",
       "    .dataframe tbody tr th {\n",
       "        vertical-align: top;\n",
       "    }\n",
       "\n",
       "    .dataframe thead th {\n",
       "        text-align: right;\n",
       "    }\n",
       "</style>\n",
       "<table border=\"1\" class=\"dataframe\">\n",
       "  <thead>\n",
       "    <tr style=\"text-align: right;\">\n",
       "      <th></th>\n",
       "      <th>total_sales</th>\n",
       "    </tr>\n",
       "    <tr>\n",
       "      <th>date</th>\n",
       "      <th></th>\n",
       "    </tr>\n",
       "  </thead>\n",
       "  <tbody>\n",
       "    <tr>\n",
       "      <th>2011-01-09</th>\n",
       "      <td>70148</td>\n",
       "    </tr>\n",
       "    <tr>\n",
       "      <th>2011-01-16</th>\n",
       "      <td>76829</td>\n",
       "    </tr>\n",
       "    <tr>\n",
       "      <th>2011-01-23</th>\n",
       "      <td>57016</td>\n",
       "    </tr>\n",
       "    <tr>\n",
       "      <th>2011-01-30</th>\n",
       "      <td>57897</td>\n",
       "    </tr>\n",
       "    <tr>\n",
       "      <th>2011-02-06</th>\n",
       "      <td>65037</td>\n",
       "    </tr>\n",
       "    <tr>\n",
       "      <th>2011-02-13</th>\n",
       "      <td>47456</td>\n",
       "    </tr>\n",
       "    <tr>\n",
       "      <th>2011-02-20</th>\n",
       "      <td>76725</td>\n",
       "    </tr>\n",
       "    <tr>\n",
       "      <th>2011-02-27</th>\n",
       "      <td>79855</td>\n",
       "    </tr>\n",
       "    <tr>\n",
       "      <th>2011-03-06</th>\n",
       "      <td>65636</td>\n",
       "    </tr>\n",
       "    <tr>\n",
       "      <th>2011-03-13</th>\n",
       "      <td>63560</td>\n",
       "    </tr>\n",
       "    <tr>\n",
       "      <th>2011-03-20</th>\n",
       "      <td>83202</td>\n",
       "    </tr>\n",
       "    <tr>\n",
       "      <th>2011-03-27</th>\n",
       "      <td>72865</td>\n",
       "    </tr>\n",
       "    <tr>\n",
       "      <th>2011-04-03</th>\n",
       "      <td>94672</td>\n",
       "    </tr>\n",
       "    <tr>\n",
       "      <th>2011-04-10</th>\n",
       "      <td>63987</td>\n",
       "    </tr>\n",
       "    <tr>\n",
       "      <th>2011-04-17</th>\n",
       "      <td>84188</td>\n",
       "    </tr>\n",
       "    <tr>\n",
       "      <th>2011-04-24</th>\n",
       "      <td>74047</td>\n",
       "    </tr>\n",
       "    <tr>\n",
       "      <th>2011-05-01</th>\n",
       "      <td>49036</td>\n",
       "    </tr>\n",
       "    <tr>\n",
       "      <th>2011-05-08</th>\n",
       "      <td>73587</td>\n",
       "    </tr>\n",
       "    <tr>\n",
       "      <th>2011-05-15</th>\n",
       "      <td>101609</td>\n",
       "    </tr>\n",
       "    <tr>\n",
       "      <th>2011-05-22</th>\n",
       "      <td>103838</td>\n",
       "    </tr>\n",
       "    <tr>\n",
       "      <th>2011-05-29</th>\n",
       "      <td>79532</td>\n",
       "    </tr>\n",
       "    <tr>\n",
       "      <th>2011-06-05</th>\n",
       "      <td>54460</td>\n",
       "    </tr>\n",
       "    <tr>\n",
       "      <th>2011-06-12</th>\n",
       "      <td>92047</td>\n",
       "    </tr>\n",
       "    <tr>\n",
       "      <th>2011-06-19</th>\n",
       "      <td>99089</td>\n",
       "    </tr>\n",
       "    <tr>\n",
       "      <th>2011-06-26</th>\n",
       "      <td>70051</td>\n",
       "    </tr>\n",
       "    <tr>\n",
       "      <th>2011-07-03</th>\n",
       "      <td>68459</td>\n",
       "    </tr>\n",
       "    <tr>\n",
       "      <th>2011-07-10</th>\n",
       "      <td>79487</td>\n",
       "    </tr>\n",
       "    <tr>\n",
       "      <th>2011-07-17</th>\n",
       "      <td>75102</td>\n",
       "    </tr>\n",
       "    <tr>\n",
       "      <th>2011-07-24</th>\n",
       "      <td>101869</td>\n",
       "    </tr>\n",
       "    <tr>\n",
       "      <th>2011-07-31</th>\n",
       "      <td>100390</td>\n",
       "    </tr>\n",
       "    <tr>\n",
       "      <th>2011-08-07</th>\n",
       "      <td>99033</td>\n",
       "    </tr>\n",
       "    <tr>\n",
       "      <th>2011-08-14</th>\n",
       "      <td>91482</td>\n",
       "    </tr>\n",
       "    <tr>\n",
       "      <th>2011-08-21</th>\n",
       "      <td>98182</td>\n",
       "    </tr>\n",
       "    <tr>\n",
       "      <th>2011-08-28</th>\n",
       "      <td>93744</td>\n",
       "    </tr>\n",
       "    <tr>\n",
       "      <th>2011-09-04</th>\n",
       "      <td>69837</td>\n",
       "    </tr>\n",
       "    <tr>\n",
       "      <th>2011-09-11</th>\n",
       "      <td>103322</td>\n",
       "    </tr>\n",
       "    <tr>\n",
       "      <th>2011-09-18</th>\n",
       "      <td>115456</td>\n",
       "    </tr>\n",
       "    <tr>\n",
       "      <th>2011-09-25</th>\n",
       "      <td>163415</td>\n",
       "    </tr>\n",
       "    <tr>\n",
       "      <th>2011-10-02</th>\n",
       "      <td>115695</td>\n",
       "    </tr>\n",
       "    <tr>\n",
       "      <th>2011-10-09</th>\n",
       "      <td>164837</td>\n",
       "    </tr>\n",
       "    <tr>\n",
       "      <th>2011-10-16</th>\n",
       "      <td>111426</td>\n",
       "    </tr>\n",
       "    <tr>\n",
       "      <th>2011-10-23</th>\n",
       "      <td>147103</td>\n",
       "    </tr>\n",
       "    <tr>\n",
       "      <th>2011-10-30</th>\n",
       "      <td>144702</td>\n",
       "    </tr>\n",
       "    <tr>\n",
       "      <th>2011-11-06</th>\n",
       "      <td>148460</td>\n",
       "    </tr>\n",
       "    <tr>\n",
       "      <th>2011-11-13</th>\n",
       "      <td>156285</td>\n",
       "    </tr>\n",
       "    <tr>\n",
       "      <th>2011-11-20</th>\n",
       "      <td>156756</td>\n",
       "    </tr>\n",
       "    <tr>\n",
       "      <th>2011-11-27</th>\n",
       "      <td>154179</td>\n",
       "    </tr>\n",
       "    <tr>\n",
       "      <th>2011-12-04</th>\n",
       "      <td>139896</td>\n",
       "    </tr>\n",
       "    <tr>\n",
       "      <th>2011-12-11</th>\n",
       "      <td>144128</td>\n",
       "    </tr>\n",
       "  </tbody>\n",
       "</table>\n",
       "</div>"
      ],
      "text/plain": [
       "            total_sales\n",
       "date                   \n",
       "2011-01-09        70148\n",
       "2011-01-16        76829\n",
       "2011-01-23        57016\n",
       "2011-01-30        57897\n",
       "2011-02-06        65037\n",
       "2011-02-13        47456\n",
       "2011-02-20        76725\n",
       "2011-02-27        79855\n",
       "2011-03-06        65636\n",
       "2011-03-13        63560\n",
       "2011-03-20        83202\n",
       "2011-03-27        72865\n",
       "2011-04-03        94672\n",
       "2011-04-10        63987\n",
       "2011-04-17        84188\n",
       "2011-04-24        74047\n",
       "2011-05-01        49036\n",
       "2011-05-08        73587\n",
       "2011-05-15       101609\n",
       "2011-05-22       103838\n",
       "2011-05-29        79532\n",
       "2011-06-05        54460\n",
       "2011-06-12        92047\n",
       "2011-06-19        99089\n",
       "2011-06-26        70051\n",
       "2011-07-03        68459\n",
       "2011-07-10        79487\n",
       "2011-07-17        75102\n",
       "2011-07-24       101869\n",
       "2011-07-31       100390\n",
       "2011-08-07        99033\n",
       "2011-08-14        91482\n",
       "2011-08-21        98182\n",
       "2011-08-28        93744\n",
       "2011-09-04        69837\n",
       "2011-09-11       103322\n",
       "2011-09-18       115456\n",
       "2011-09-25       163415\n",
       "2011-10-02       115695\n",
       "2011-10-09       164837\n",
       "2011-10-16       111426\n",
       "2011-10-23       147103\n",
       "2011-10-30       144702\n",
       "2011-11-06       148460\n",
       "2011-11-13       156285\n",
       "2011-11-20       156756\n",
       "2011-11-27       154179\n",
       "2011-12-04       139896\n",
       "2011-12-11       144128"
      ]
     },
     "metadata": {},
     "execution_count": 59
    }
   ],
   "metadata": {}
  }
 ],
 "metadata": {
  "orig_nbformat": 4,
  "language_info": {
   "name": "python",
   "version": "3.7.6",
   "mimetype": "text/x-python",
   "codemirror_mode": {
    "name": "ipython",
    "version": 3
   },
   "pygments_lexer": "ipython3",
   "nbconvert_exporter": "python",
   "file_extension": ".py"
  },
  "kernelspec": {
   "name": "python3",
   "display_name": "Python 3.7.6 64-bit ('base': conda)"
  },
  "interpreter": {
   "hash": "60062bfbbdb55d7c70b884c78dba17d93f7bddb21846b67229a99cf865725014"
  }
 },
 "nbformat": 4,
 "nbformat_minor": 2
}